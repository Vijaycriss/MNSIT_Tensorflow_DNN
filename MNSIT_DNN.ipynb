{
  "nbformat": 4,
  "nbformat_minor": 0,
  "metadata": {
    "colab": {
      "provenance": [],
      "authorship_tag": "ABX9TyMAUzWpAT2iCzzYTLX6k7aP",
      "include_colab_link": true
    },
    "kernelspec": {
      "name": "python3",
      "display_name": "Python 3"
    },
    "language_info": {
      "name": "python"
    },
    "widgets": {
      "application/vnd.jupyter.widget-state+json": {
        "60f77ca1e1eb47f0a1ed7b2bf2b8c3c6": {
          "model_module": "@jupyter-widgets/controls",
          "model_name": "HBoxModel",
          "model_module_version": "1.5.0",
          "state": {
            "_dom_classes": [],
            "_model_module": "@jupyter-widgets/controls",
            "_model_module_version": "1.5.0",
            "_model_name": "HBoxModel",
            "_view_count": null,
            "_view_module": "@jupyter-widgets/controls",
            "_view_module_version": "1.5.0",
            "_view_name": "HBoxView",
            "box_style": "",
            "children": [
              "IPY_MODEL_df0c812946074235b12e1d1205d27fff",
              "IPY_MODEL_1f3f049483c04844b62713f58ed91491",
              "IPY_MODEL_4e09848af9b1487baed5d711bb37d7bc"
            ],
            "layout": "IPY_MODEL_fda37bdcd4504b07b5e729cee8a1f07e"
          }
        },
        "df0c812946074235b12e1d1205d27fff": {
          "model_module": "@jupyter-widgets/controls",
          "model_name": "HTMLModel",
          "model_module_version": "1.5.0",
          "state": {
            "_dom_classes": [],
            "_model_module": "@jupyter-widgets/controls",
            "_model_module_version": "1.5.0",
            "_model_name": "HTMLModel",
            "_view_count": null,
            "_view_module": "@jupyter-widgets/controls",
            "_view_module_version": "1.5.0",
            "_view_name": "HTMLView",
            "description": "",
            "description_tooltip": null,
            "layout": "IPY_MODEL_aec8d976133b4dd48cc8f6e9492b1c86",
            "placeholder": "​",
            "style": "IPY_MODEL_ae3113297ebb4b2e8b967d5192dbafe8",
            "value": "Dl Completed...: 100%"
          }
        },
        "1f3f049483c04844b62713f58ed91491": {
          "model_module": "@jupyter-widgets/controls",
          "model_name": "FloatProgressModel",
          "model_module_version": "1.5.0",
          "state": {
            "_dom_classes": [],
            "_model_module": "@jupyter-widgets/controls",
            "_model_module_version": "1.5.0",
            "_model_name": "FloatProgressModel",
            "_view_count": null,
            "_view_module": "@jupyter-widgets/controls",
            "_view_module_version": "1.5.0",
            "_view_name": "ProgressView",
            "bar_style": "success",
            "description": "",
            "description_tooltip": null,
            "layout": "IPY_MODEL_2d23bde67ed2431b9d96226764dd0800",
            "max": 5,
            "min": 0,
            "orientation": "horizontal",
            "style": "IPY_MODEL_ad6cc2caca804cc98c224ceae44b1e06",
            "value": 5
          }
        },
        "4e09848af9b1487baed5d711bb37d7bc": {
          "model_module": "@jupyter-widgets/controls",
          "model_name": "HTMLModel",
          "model_module_version": "1.5.0",
          "state": {
            "_dom_classes": [],
            "_model_module": "@jupyter-widgets/controls",
            "_model_module_version": "1.5.0",
            "_model_name": "HTMLModel",
            "_view_count": null,
            "_view_module": "@jupyter-widgets/controls",
            "_view_module_version": "1.5.0",
            "_view_name": "HTMLView",
            "description": "",
            "description_tooltip": null,
            "layout": "IPY_MODEL_d012aebd69874d5b86ecb582c7b469f6",
            "placeholder": "​",
            "style": "IPY_MODEL_1b78041b95fa4ba59102d695fb242cec",
            "value": " 5/5 [00:03&lt;00:00,  1.00s/ file]"
          }
        },
        "fda37bdcd4504b07b5e729cee8a1f07e": {
          "model_module": "@jupyter-widgets/base",
          "model_name": "LayoutModel",
          "model_module_version": "1.2.0",
          "state": {
            "_model_module": "@jupyter-widgets/base",
            "_model_module_version": "1.2.0",
            "_model_name": "LayoutModel",
            "_view_count": null,
            "_view_module": "@jupyter-widgets/base",
            "_view_module_version": "1.2.0",
            "_view_name": "LayoutView",
            "align_content": null,
            "align_items": null,
            "align_self": null,
            "border": null,
            "bottom": null,
            "display": null,
            "flex": null,
            "flex_flow": null,
            "grid_area": null,
            "grid_auto_columns": null,
            "grid_auto_flow": null,
            "grid_auto_rows": null,
            "grid_column": null,
            "grid_gap": null,
            "grid_row": null,
            "grid_template_areas": null,
            "grid_template_columns": null,
            "grid_template_rows": null,
            "height": null,
            "justify_content": null,
            "justify_items": null,
            "left": null,
            "margin": null,
            "max_height": null,
            "max_width": null,
            "min_height": null,
            "min_width": null,
            "object_fit": null,
            "object_position": null,
            "order": null,
            "overflow": null,
            "overflow_x": null,
            "overflow_y": null,
            "padding": null,
            "right": null,
            "top": null,
            "visibility": null,
            "width": null
          }
        },
        "aec8d976133b4dd48cc8f6e9492b1c86": {
          "model_module": "@jupyter-widgets/base",
          "model_name": "LayoutModel",
          "model_module_version": "1.2.0",
          "state": {
            "_model_module": "@jupyter-widgets/base",
            "_model_module_version": "1.2.0",
            "_model_name": "LayoutModel",
            "_view_count": null,
            "_view_module": "@jupyter-widgets/base",
            "_view_module_version": "1.2.0",
            "_view_name": "LayoutView",
            "align_content": null,
            "align_items": null,
            "align_self": null,
            "border": null,
            "bottom": null,
            "display": null,
            "flex": null,
            "flex_flow": null,
            "grid_area": null,
            "grid_auto_columns": null,
            "grid_auto_flow": null,
            "grid_auto_rows": null,
            "grid_column": null,
            "grid_gap": null,
            "grid_row": null,
            "grid_template_areas": null,
            "grid_template_columns": null,
            "grid_template_rows": null,
            "height": null,
            "justify_content": null,
            "justify_items": null,
            "left": null,
            "margin": null,
            "max_height": null,
            "max_width": null,
            "min_height": null,
            "min_width": null,
            "object_fit": null,
            "object_position": null,
            "order": null,
            "overflow": null,
            "overflow_x": null,
            "overflow_y": null,
            "padding": null,
            "right": null,
            "top": null,
            "visibility": null,
            "width": null
          }
        },
        "ae3113297ebb4b2e8b967d5192dbafe8": {
          "model_module": "@jupyter-widgets/controls",
          "model_name": "DescriptionStyleModel",
          "model_module_version": "1.5.0",
          "state": {
            "_model_module": "@jupyter-widgets/controls",
            "_model_module_version": "1.5.0",
            "_model_name": "DescriptionStyleModel",
            "_view_count": null,
            "_view_module": "@jupyter-widgets/base",
            "_view_module_version": "1.2.0",
            "_view_name": "StyleView",
            "description_width": ""
          }
        },
        "2d23bde67ed2431b9d96226764dd0800": {
          "model_module": "@jupyter-widgets/base",
          "model_name": "LayoutModel",
          "model_module_version": "1.2.0",
          "state": {
            "_model_module": "@jupyter-widgets/base",
            "_model_module_version": "1.2.0",
            "_model_name": "LayoutModel",
            "_view_count": null,
            "_view_module": "@jupyter-widgets/base",
            "_view_module_version": "1.2.0",
            "_view_name": "LayoutView",
            "align_content": null,
            "align_items": null,
            "align_self": null,
            "border": null,
            "bottom": null,
            "display": null,
            "flex": null,
            "flex_flow": null,
            "grid_area": null,
            "grid_auto_columns": null,
            "grid_auto_flow": null,
            "grid_auto_rows": null,
            "grid_column": null,
            "grid_gap": null,
            "grid_row": null,
            "grid_template_areas": null,
            "grid_template_columns": null,
            "grid_template_rows": null,
            "height": null,
            "justify_content": null,
            "justify_items": null,
            "left": null,
            "margin": null,
            "max_height": null,
            "max_width": null,
            "min_height": null,
            "min_width": null,
            "object_fit": null,
            "object_position": null,
            "order": null,
            "overflow": null,
            "overflow_x": null,
            "overflow_y": null,
            "padding": null,
            "right": null,
            "top": null,
            "visibility": null,
            "width": null
          }
        },
        "ad6cc2caca804cc98c224ceae44b1e06": {
          "model_module": "@jupyter-widgets/controls",
          "model_name": "ProgressStyleModel",
          "model_module_version": "1.5.0",
          "state": {
            "_model_module": "@jupyter-widgets/controls",
            "_model_module_version": "1.5.0",
            "_model_name": "ProgressStyleModel",
            "_view_count": null,
            "_view_module": "@jupyter-widgets/base",
            "_view_module_version": "1.2.0",
            "_view_name": "StyleView",
            "bar_color": null,
            "description_width": ""
          }
        },
        "d012aebd69874d5b86ecb582c7b469f6": {
          "model_module": "@jupyter-widgets/base",
          "model_name": "LayoutModel",
          "model_module_version": "1.2.0",
          "state": {
            "_model_module": "@jupyter-widgets/base",
            "_model_module_version": "1.2.0",
            "_model_name": "LayoutModel",
            "_view_count": null,
            "_view_module": "@jupyter-widgets/base",
            "_view_module_version": "1.2.0",
            "_view_name": "LayoutView",
            "align_content": null,
            "align_items": null,
            "align_self": null,
            "border": null,
            "bottom": null,
            "display": null,
            "flex": null,
            "flex_flow": null,
            "grid_area": null,
            "grid_auto_columns": null,
            "grid_auto_flow": null,
            "grid_auto_rows": null,
            "grid_column": null,
            "grid_gap": null,
            "grid_row": null,
            "grid_template_areas": null,
            "grid_template_columns": null,
            "grid_template_rows": null,
            "height": null,
            "justify_content": null,
            "justify_items": null,
            "left": null,
            "margin": null,
            "max_height": null,
            "max_width": null,
            "min_height": null,
            "min_width": null,
            "object_fit": null,
            "object_position": null,
            "order": null,
            "overflow": null,
            "overflow_x": null,
            "overflow_y": null,
            "padding": null,
            "right": null,
            "top": null,
            "visibility": null,
            "width": null
          }
        },
        "1b78041b95fa4ba59102d695fb242cec": {
          "model_module": "@jupyter-widgets/controls",
          "model_name": "DescriptionStyleModel",
          "model_module_version": "1.5.0",
          "state": {
            "_model_module": "@jupyter-widgets/controls",
            "_model_module_version": "1.5.0",
            "_model_name": "DescriptionStyleModel",
            "_view_count": null,
            "_view_module": "@jupyter-widgets/base",
            "_view_module_version": "1.2.0",
            "_view_name": "StyleView",
            "description_width": ""
          }
        }
      }
    }
  },
  "cells": [
    {
      "cell_type": "markdown",
      "metadata": {
        "id": "view-in-github",
        "colab_type": "text"
      },
      "source": [
        "<a href=\"https://colab.research.google.com/github/Vijaycriss/MNSIT_Tensorflow_DNN/blob/main/MNSIT_DNN.ipynb\" target=\"_parent\"><img src=\"https://colab.research.google.com/assets/colab-badge.svg\" alt=\"Open In Colab\"/></a>"
      ]
    },
    {
      "cell_type": "code",
      "execution_count": 1,
      "metadata": {
        "id": "UUQMQeWEuCOG"
      },
      "outputs": [],
      "source": [
        "import numpy as np\n",
        "import tensorflow as tf\n",
        "import tensorflow_datasets as tfds\n"
      ]
    },
    {
      "cell_type": "markdown",
      "source": [
        "##Loading the MNIST Dataset"
      ],
      "metadata": {
        "id": "9XT8PAblNO7o"
      }
    },
    {
      "cell_type": "code",
      "source": [
        "mnist_data, mnist_info = tfds.load(name='mnist', with_info=True, as_supervised=True)"
      ],
      "metadata": {
        "colab": {
          "base_uri": "https://localhost:8080/",
          "height": 84,
          "referenced_widgets": [
            "60f77ca1e1eb47f0a1ed7b2bf2b8c3c6",
            "df0c812946074235b12e1d1205d27fff",
            "1f3f049483c04844b62713f58ed91491",
            "4e09848af9b1487baed5d711bb37d7bc",
            "fda37bdcd4504b07b5e729cee8a1f07e",
            "aec8d976133b4dd48cc8f6e9492b1c86",
            "ae3113297ebb4b2e8b967d5192dbafe8",
            "2d23bde67ed2431b9d96226764dd0800",
            "ad6cc2caca804cc98c224ceae44b1e06",
            "d012aebd69874d5b86ecb582c7b469f6",
            "1b78041b95fa4ba59102d695fb242cec"
          ]
        },
        "id": "NQc3maSjuXGt",
        "outputId": "8405f08c-96ae-4ff6-f400-1e6de2701d9e"
      },
      "execution_count": 2,
      "outputs": [
        {
          "output_type": "stream",
          "name": "stdout",
          "text": [
            "Downloading and preparing dataset 11.06 MiB (download: 11.06 MiB, generated: 21.00 MiB, total: 32.06 MiB) to /root/tensorflow_datasets/mnist/3.0.1...\n"
          ]
        },
        {
          "output_type": "display_data",
          "data": {
            "text/plain": [
              "Dl Completed...:   0%|          | 0/5 [00:00<?, ? file/s]"
            ],
            "application/vnd.jupyter.widget-view+json": {
              "version_major": 2,
              "version_minor": 0,
              "model_id": "60f77ca1e1eb47f0a1ed7b2bf2b8c3c6"
            }
          },
          "metadata": {}
        },
        {
          "output_type": "stream",
          "name": "stdout",
          "text": [
            "Dataset mnist downloaded and prepared to /root/tensorflow_datasets/mnist/3.0.1. Subsequent calls will reuse this data.\n"
          ]
        }
      ]
    },
    {
      "cell_type": "markdown",
      "source": [
        "##Spliting tht dataset and scaling it"
      ],
      "metadata": {
        "id": "XeXkmJwwNSNc"
      }
    },
    {
      "cell_type": "code",
      "source": [
        "mnist_train, mnist_test = mnist_data['train'], mnist_data['test']\n",
        "\n",
        "num_val_samples = 0.1 * mnist_info.splits['train'].num_examples\n",
        "\n",
        "num_val_samples = tf.cast(num_val_samples, tf.int64)\n",
        "\n",
        "num_test_samples = mnist_info.splits['test'].num_examples\n",
        "\n",
        "num_test_samples = tf.cast(num_test_samples, tf.int64)\n",
        "\n",
        "def scale(image, label):\n",
        "  image = tf.cast(image, tf.float32)\n",
        "  image /= 255.\n",
        "  return image, label\n",
        "\n",
        "scaled_train_and_val_data = mnist_train.map(scale)\n",
        "\n",
        "scaled_test_data = mnist_test.map(scale)"
      ],
      "metadata": {
        "id": "Qy9zcU8lutwy"
      },
      "execution_count": 3,
      "outputs": []
    },
    {
      "cell_type": "markdown",
      "source": [
        "Shuffling and Batching"
      ],
      "metadata": {
        "id": "hP7K62wWNc67"
      }
    },
    {
      "cell_type": "code",
      "source": [
        "#Shuffle\n",
        "BUFFER_SIZE = 10000\n",
        "\n",
        "shuffle_train_and_val_data = scaled_train_and_val_data.shuffle(BUFFER_SIZE)\n",
        "\n",
        "validation_data = scaled_train_and_val_data.take(num_val_samples)\n",
        "\n",
        "train_data = shuffle_train_and_val_data.skip(num_val_samples)\n",
        "\n",
        "#Batch\n",
        "BATCH_SIZE = 1000\n",
        "\n",
        "train_data = train_data.batch(BATCH_SIZE)\n",
        "validation_data = validation_data.batch(num_val_samples)\n",
        "test_data = scaled_test_data.batch(num_test_samples)\n",
        "\n",
        "validation_inputs, validation_targets = next(iter(validation_data))"
      ],
      "metadata": {
        "id": "hZ9utL15wGuX"
      },
      "execution_count": 14,
      "outputs": []
    },
    {
      "cell_type": "markdown",
      "source": [
        "##Outline the model"
      ],
      "metadata": {
        "id": "r99RYNY5LiQx"
      }
    },
    {
      "cell_type": "code",
      "source": [
        "input_size = 784\n",
        "output_size = 10\n",
        "hidden_layers = 2000\n",
        "\n",
        "model = tf.keras.Sequential([\n",
        "                          tf.keras.layers.Flatten(input_shape = (28,28,1)),\n",
        "                          tf.keras.layers.Dense(hidden_layers, activation = 'relu'),\n",
        "                          tf.keras.layers.Dense(hidden_layers, activation = 'relu'),\n",
        "                          tf.keras.layers.Dense(hidden_layers, activation = 'relu'),\n",
        "                          tf.keras.layers.Dense(hidden_layers, activation = 'relu'),\n",
        "\n",
        "                          tf.keras.layers.Dense(output_size, activation='softmax')\n",
        "])"
      ],
      "metadata": {
        "id": "OxZQAcHjLnzs"
      },
      "execution_count": 15,
      "outputs": []
    },
    {
      "cell_type": "markdown",
      "source": [
        "#Optimizer and Loss Function"
      ],
      "metadata": {
        "id": "Ek7Uyk_FOLfc"
      }
    },
    {
      "cell_type": "code",
      "source": [
        "model.compile(optimizer='adam', loss = 'sparse_categorical_crossentropy', metrics=['accuracy'])"
      ],
      "metadata": {
        "id": "OirvmuUZOKvG"
      },
      "execution_count": 16,
      "outputs": []
    },
    {
      "cell_type": "markdown",
      "source": [
        "##Training the model"
      ],
      "metadata": {
        "id": "6fSX-HdrOmkF"
      }
    },
    {
      "cell_type": "code",
      "source": [
        "NUMs_EPOCH = 5\n",
        "\n",
        "model.fit(train_data, epochs = NUMs_EPOCH, validation_data = (validation_inputs, validation_targets), verbose= 2 )"
      ],
      "metadata": {
        "colab": {
          "base_uri": "https://localhost:8080/"
        },
        "id": "i09Zh2_COluU",
        "outputId": "b1f9f135-d56a-487b-b6b3-7d2e9939b161"
      },
      "execution_count": 17,
      "outputs": [
        {
          "output_type": "stream",
          "name": "stdout",
          "text": [
            "Epoch 1/5\n",
            "54/54 - 98s - loss: 0.3880 - accuracy: 0.8750 - val_loss: 0.1182 - val_accuracy: 0.9650 - 98s/epoch - 2s/step\n",
            "Epoch 2/5\n",
            "54/54 - 96s - loss: 0.0861 - accuracy: 0.9729 - val_loss: 0.0735 - val_accuracy: 0.9800 - 96s/epoch - 2s/step\n",
            "Epoch 3/5\n",
            "54/54 - 97s - loss: 0.0460 - accuracy: 0.9859 - val_loss: 0.0679 - val_accuracy: 0.9800 - 97s/epoch - 2s/step\n",
            "Epoch 4/5\n",
            "54/54 - 101s - loss: 0.0337 - accuracy: 0.9894 - val_loss: 0.0474 - val_accuracy: 0.9860 - 101s/epoch - 2s/step\n",
            "Epoch 5/5\n",
            "54/54 - 96s - loss: 0.0300 - accuracy: 0.9900 - val_loss: 0.0301 - val_accuracy: 0.9905 - 96s/epoch - 2s/step\n"
          ]
        },
        {
          "output_type": "execute_result",
          "data": {
            "text/plain": [
              "<keras.src.callbacks.History at 0x7dca0a7f9c90>"
            ]
          },
          "metadata": {},
          "execution_count": 17
        }
      ]
    },
    {
      "cell_type": "markdown",
      "source": [
        "##Test the model"
      ],
      "metadata": {
        "id": "xtC84omCQuSK"
      }
    },
    {
      "cell_type": "code",
      "source": [
        "test_loss, test_accuracy = model.evaluate(test_data)\n",
        "print('Test loss : {0:.2f}, Test accuracy: {1:.2f}%'.format(test_loss, test_accuracy*100))"
      ],
      "metadata": {
        "colab": {
          "base_uri": "https://localhost:8080/"
        },
        "id": "xGLy3SjWQwc-",
        "outputId": "39be96c8-b148-48a2-d1e1-157aea4e6105"
      },
      "execution_count": 18,
      "outputs": [
        {
          "output_type": "stream",
          "name": "stdout",
          "text": [
            "1/1 [==============================] - 8s 8s/step - loss: 0.0709 - accuracy: 0.9797\n",
            "Test loss : 0.07, Test accuracy: 97.97%\n"
          ]
        }
      ]
    }
  ]
}