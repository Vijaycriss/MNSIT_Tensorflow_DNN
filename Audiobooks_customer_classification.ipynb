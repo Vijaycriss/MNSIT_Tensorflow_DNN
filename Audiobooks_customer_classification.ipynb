{
  "nbformat": 4,
  "nbformat_minor": 0,
  "metadata": {
    "colab": {
      "provenance": [],
      "authorship_tag": "ABX9TyOx2OUuCCq3biOmyXZiGAOa",
      "include_colab_link": true
    },
    "kernelspec": {
      "name": "python3",
      "display_name": "Python 3"
    },
    "language_info": {
      "name": "python"
    }
  },
  "cells": [
    {
      "cell_type": "markdown",
      "metadata": {
        "id": "view-in-github",
        "colab_type": "text"
      },
      "source": [
        "<a href=\"https://colab.research.google.com/github/Vijaycriss/MNSIT_Tensorflow_DNN/blob/main/Audiobooks_customer_classification.ipynb\" target=\"_parent\"><img src=\"https://colab.research.google.com/assets/colab-badge.svg\" alt=\"Open In Colab\"/></a>"
      ]
    },
    {
      "cell_type": "code",
      "execution_count": 2,
      "metadata": {
        "id": "BM69CRJNcYgo"
      },
      "outputs": [],
      "source": [
        "import numpy as np\n",
        "import tensorflow as tf\n",
        "\n",
        "from sklearn import preprocessing"
      ]
    },
    {
      "cell_type": "code",
      "source": [
        "raw_data = np.loadtxt('/content/Audiobooks_data.csv', delimiter = ',')\n",
        "\n",
        "unscaled_inputs_all = raw_data[:,1:-1]\n",
        "targets_all = raw_data[:,-1]"
      ],
      "metadata": {
        "id": "qq9ptIpFQ30Q"
      },
      "execution_count": 6,
      "outputs": []
    },
    {
      "cell_type": "code",
      "source": [
        "shuffled_indicies = np.arange(unscaled_inputs_all.shape[0])\n",
        "np.random.shuffle(shuffled_indicies)\n",
        "\n",
        "unscaled_inputs_all = unscaled_inputs_all[shuffled_indicies]\n",
        "targets_all = targets_all[shuffled_indicies]"
      ],
      "metadata": {
        "id": "2uPylvAHQ39o"
      },
      "execution_count": 7,
      "outputs": []
    },
    {
      "cell_type": "markdown",
      "source": [
        "##Balance the data"
      ],
      "metadata": {
        "id": "_nbptLwQTXXA"
      }
    },
    {
      "cell_type": "code",
      "source": [
        "#count how many targets are 1\n",
        "num_of_targets = int(np.sum(targets_all))\n",
        "\n",
        "# Set a counter for targets that are 0 (meaning that the customer did not convert)\n",
        "zero_targets_counter = 0\n",
        "\n",
        "indices_to_remove = []\n",
        "\n",
        "#count the number of 0\n",
        "for i in range(targets_all.shape[0]):\n",
        "    if targets_all[i] == 0:\n",
        "      zero_targets_counter += 1\n",
        "      if zero_targets_counter > num_of_targets:\n",
        "        indices_to_remove.append(i)\n",
        "\n",
        "unscaled_inputs_equal = np.delete(unscaled_inputs_all, indices_to_remove, axis =0)\n",
        "targets_equal = np.delete(targets_all, indices_to_remove, axis = 0)\n"
      ],
      "metadata": {
        "id": "paFn3wwCTamM"
      },
      "execution_count": 8,
      "outputs": []
    },
    {
      "cell_type": "markdown",
      "source": [
        "##Standarize the input"
      ],
      "metadata": {
        "id": "wFs2qsA6VCBu"
      }
    },
    {
      "cell_type": "code",
      "source": [
        "scaled_inputs = preprocessing.scale(unscaled_inputs_equal)"
      ],
      "metadata": {
        "id": "BU7G-r8pVEVQ"
      },
      "execution_count": 9,
      "outputs": []
    },
    {
      "cell_type": "markdown",
      "source": [
        "##Shuffle data"
      ],
      "metadata": {
        "id": "T48dQdS7VR_O"
      }
    },
    {
      "cell_type": "code",
      "source": [
        "shuffled_indicies = np.arange(scaled_inputs.shape[0])\n",
        "np.random.shuffle(shuffled_indicies)\n",
        "\n",
        "shuffled_inputs = scaled_inputs[shuffled_indicies]\n",
        "shuffled_targets = targets_equal[shuffled_indicies]"
      ],
      "metadata": {
        "id": "VQ4TYhLJVEgI"
      },
      "execution_count": 11,
      "outputs": []
    },
    {
      "cell_type": "markdown",
      "source": [
        "##Split train,val and test data"
      ],
      "metadata": {
        "id": "Po765UIFV4UO"
      }
    },
    {
      "cell_type": "code",
      "source": [
        "samples_count = shuffled_inputs.shape[0]\n",
        "\n",
        "train_samples_count = int(0.8 * samples_count)\n",
        "validation_samples_count = int(0.1 * samples_count)\n",
        "test_samples_count = samples_count - train_samples_count - validation_samples_count\n",
        "\n",
        "train_inputs = shuffled_inputs[:train_samples_count]\n",
        "train_targets = shuffled_targets[:train_samples_count]\n",
        "\n",
        "validation_inputs = shuffled_inputs[train_samples_count:train_samples_count + validation_samples_count]\n",
        "validation_targets = shuffled_targets[train_samples_count:train_samples_count + validation_samples_count]\n",
        "\n",
        "test_inputs = shuffled_inputs[train_samples_count + validation_samples_count:]\n",
        "test_targets = shuffled_targets[train_samples_count + validation_samples_count:]\n",
        "\n",
        "print(np.sum(train_targets), train_samples_count, np.sum(train_targets) / train_samples_count)\n",
        "print(np.sum(validation_targets), validation_samples_count, np.sum(validation_targets) / validation_samples_count)\n",
        "print(np.sum(test_targets), test_samples_count, np.sum(test_targets) / test_samples_count)\n",
        "\n"
      ],
      "metadata": {
        "colab": {
          "base_uri": "https://localhost:8080/"
        },
        "id": "QxGLubSpVjko",
        "outputId": "a2b232a5-de1e-4b5b-f07a-ffce2e02ff08"
      },
      "execution_count": 13,
      "outputs": [
        {
          "output_type": "stream",
          "name": "stdout",
          "text": [
            "1801.0 3579 0.5032131880413523\n",
            "214.0 447 0.47874720357941836\n",
            "222.0 448 0.4955357142857143\n"
          ]
        }
      ]
    },
    {
      "cell_type": "markdown",
      "source": [
        "##Save in *.npz"
      ],
      "metadata": {
        "id": "TsENJ4dFchLz"
      }
    },
    {
      "cell_type": "code",
      "source": [
        "np.savez('Train_data', inputs = train_inputs, targets = train_targets)\n",
        "np.savez('Validation_data', inputs = validation_inputs, targets = validation_targets)\n",
        "np.savez('test_data', inputs = test_inputs, targets = test_targets)"
      ],
      "metadata": {
        "id": "mP2_e_PKcnfe"
      },
      "execution_count": 14,
      "outputs": []
    },
    {
      "cell_type": "markdown",
      "source": [
        "##Outline of model"
      ],
      "metadata": {
        "id": "GzQizvNUejjw"
      }
    },
    {
      "cell_type": "markdown",
      "source": [
        "Load Data"
      ],
      "metadata": {
        "id": "l_2G1xo5fHLf"
      }
    },
    {
      "cell_type": "code",
      "source": [
        "npz = np.load('/content/Train_data.npz')\n",
        "train_inputs = npz['inputs'].astype(np.float)\n",
        "train_targets = npz['targets'].astype(np.int)\n",
        "\n",
        "npz = np.load('/content/Validation_data.npz')\n",
        "validation_inputs, validation_targets = npz['inputs'].astype(np.float), npz['targets'].astype(np.int)\n",
        "\n",
        "npz = np.load('/content/test_data.npz')\n",
        "test_inputs, test_targets = npz['inputs'].astype(np.float), npz['targets'].astype(np.int)"
      ],
      "metadata": {
        "id": "pVgGcqtIfJaa"
      },
      "execution_count": null,
      "outputs": []
    },
    {
      "cell_type": "markdown",
      "source": [
        "##Model"
      ],
      "metadata": {
        "id": "iXuLIDSvgjNy"
      }
    },
    {
      "cell_type": "code",
      "source": [
        "input_size = 10\n",
        "output_size = 2\n",
        "hidden_layers_size = 50\n",
        "\n",
        "model = tf.keras.Sequential([\n",
        "                            tf.keras.layers.Dense(hidden_layers_size, activation = 'relu'),\n",
        "                            tf.keras.layers.Dense(hidden_layers_size, activation = 'relu'),\n",
        "                            tf.keras.layers.Dense(output_size, activation = 'softmax')\n",
        "])"
      ],
      "metadata": {
        "id": "pV-xDKaKge-A"
      },
      "execution_count": 31,
      "outputs": []
    },
    {
      "cell_type": "markdown",
      "source": [
        "##Opitmizer and loss func"
      ],
      "metadata": {
        "id": "xmRJmkpNhhXi"
      }
    },
    {
      "cell_type": "code",
      "source": [
        "model.compile(optimizer='adam', loss = 'sparse_categorical_crossentropy', metrics=['accuracy'])\n",
        "\n",
        "batch_size = 100\n",
        "max_epochs = 100\n",
        "\n",
        "early_stop = tf.keras.callbacks.EarlyStopping(patience=2)\n",
        "\n",
        "model.fit(train_inputs,\n",
        "          train_targets,\n",
        "          batch_size = batch_size,\n",
        "          epochs = max_epochs,\n",
        "          callbacks = [early_stop],\n",
        "          validation_data = (validation_inputs, validation_targets),\n",
        "          verbose = 2)"
      ],
      "metadata": {
        "colab": {
          "base_uri": "https://localhost:8080/"
        },
        "id": "2ErqQoI9hgtb",
        "outputId": "e618f265-28ad-4a04-ea37-78ada2fabf94"
      },
      "execution_count": 32,
      "outputs": [
        {
          "output_type": "stream",
          "name": "stdout",
          "text": [
            "Epoch 1/100\n",
            "36/36 - 1s - loss: 0.6205 - accuracy: 0.6535 - val_loss: 0.5282 - val_accuracy: 0.7539 - 1s/epoch - 33ms/step\n",
            "Epoch 2/100\n",
            "36/36 - 0s - loss: 0.4889 - accuracy: 0.7647 - val_loss: 0.4533 - val_accuracy: 0.7785 - 139ms/epoch - 4ms/step\n",
            "Epoch 3/100\n",
            "36/36 - 0s - loss: 0.4368 - accuracy: 0.7790 - val_loss: 0.4199 - val_accuracy: 0.7785 - 159ms/epoch - 4ms/step\n",
            "Epoch 4/100\n",
            "36/36 - 0s - loss: 0.4115 - accuracy: 0.7904 - val_loss: 0.4048 - val_accuracy: 0.7897 - 184ms/epoch - 5ms/step\n",
            "Epoch 5/100\n",
            "36/36 - 0s - loss: 0.3962 - accuracy: 0.7977 - val_loss: 0.3953 - val_accuracy: 0.7763 - 165ms/epoch - 5ms/step\n",
            "Epoch 6/100\n",
            "36/36 - 0s - loss: 0.3873 - accuracy: 0.7991 - val_loss: 0.3892 - val_accuracy: 0.7785 - 150ms/epoch - 4ms/step\n",
            "Epoch 7/100\n",
            "36/36 - 0s - loss: 0.3815 - accuracy: 0.8013 - val_loss: 0.3849 - val_accuracy: 0.7830 - 146ms/epoch - 4ms/step\n",
            "Epoch 8/100\n",
            "36/36 - 0s - loss: 0.3766 - accuracy: 0.8058 - val_loss: 0.3803 - val_accuracy: 0.7964 - 147ms/epoch - 4ms/step\n",
            "Epoch 9/100\n",
            "36/36 - 0s - loss: 0.3740 - accuracy: 0.8050 - val_loss: 0.3812 - val_accuracy: 0.7942 - 161ms/epoch - 4ms/step\n",
            "Epoch 10/100\n",
            "36/36 - 0s - loss: 0.3695 - accuracy: 0.8050 - val_loss: 0.3696 - val_accuracy: 0.7964 - 153ms/epoch - 4ms/step\n",
            "Epoch 11/100\n",
            "36/36 - 0s - loss: 0.3661 - accuracy: 0.8064 - val_loss: 0.3693 - val_accuracy: 0.8031 - 163ms/epoch - 5ms/step\n",
            "Epoch 12/100\n",
            "36/36 - 0s - loss: 0.3634 - accuracy: 0.8061 - val_loss: 0.3723 - val_accuracy: 0.8054 - 138ms/epoch - 4ms/step\n",
            "Epoch 13/100\n",
            "36/36 - 0s - loss: 0.3657 - accuracy: 0.8075 - val_loss: 0.3653 - val_accuracy: 0.7964 - 153ms/epoch - 4ms/step\n",
            "Epoch 14/100\n",
            "36/36 - 0s - loss: 0.3597 - accuracy: 0.8025 - val_loss: 0.3713 - val_accuracy: 0.7987 - 141ms/epoch - 4ms/step\n",
            "Epoch 15/100\n",
            "36/36 - 0s - loss: 0.3591 - accuracy: 0.8075 - val_loss: 0.3649 - val_accuracy: 0.7987 - 99ms/epoch - 3ms/step\n",
            "Epoch 16/100\n",
            "36/36 - 0s - loss: 0.3618 - accuracy: 0.8094 - val_loss: 0.3612 - val_accuracy: 0.7964 - 101ms/epoch - 3ms/step\n",
            "Epoch 17/100\n",
            "36/36 - 0s - loss: 0.3581 - accuracy: 0.8106 - val_loss: 0.3595 - val_accuracy: 0.8098 - 114ms/epoch - 3ms/step\n",
            "Epoch 18/100\n",
            "36/36 - 0s - loss: 0.3556 - accuracy: 0.8136 - val_loss: 0.3578 - val_accuracy: 0.8031 - 119ms/epoch - 3ms/step\n",
            "Epoch 19/100\n",
            "36/36 - 0s - loss: 0.3542 - accuracy: 0.8111 - val_loss: 0.3565 - val_accuracy: 0.8076 - 105ms/epoch - 3ms/step\n",
            "Epoch 20/100\n",
            "36/36 - 0s - loss: 0.3523 - accuracy: 0.8150 - val_loss: 0.3589 - val_accuracy: 0.8031 - 101ms/epoch - 3ms/step\n",
            "Epoch 21/100\n",
            "36/36 - 0s - loss: 0.3517 - accuracy: 0.8139 - val_loss: 0.3534 - val_accuracy: 0.8009 - 99ms/epoch - 3ms/step\n",
            "Epoch 22/100\n",
            "36/36 - 0s - loss: 0.3518 - accuracy: 0.8069 - val_loss: 0.3599 - val_accuracy: 0.7942 - 113ms/epoch - 3ms/step\n",
            "Epoch 23/100\n",
            "36/36 - 0s - loss: 0.3497 - accuracy: 0.8139 - val_loss: 0.3555 - val_accuracy: 0.8188 - 98ms/epoch - 3ms/step\n"
          ]
        },
        {
          "output_type": "execute_result",
          "data": {
            "text/plain": [
              "<keras.src.callbacks.History at 0x7f98c9943fd0>"
            ]
          },
          "metadata": {},
          "execution_count": 32
        }
      ]
    },
    {
      "cell_type": "markdown",
      "source": [
        "##Test the model"
      ],
      "metadata": {
        "id": "fByZEj_qlW-y"
      }
    },
    {
      "cell_type": "code",
      "source": [
        "test_loss, test_accuracy = model.evaluate(test_inputs, test_targets)\n",
        "print('Test loss : {0:.2f}, Test accuracy: {1:.2f}%'.format(test_loss, test_accuracy*100))"
      ],
      "metadata": {
        "colab": {
          "base_uri": "https://localhost:8080/"
        },
        "id": "vGzGMkyplZho",
        "outputId": "522a56ba-f35f-4f88-e6dd-147023f97bbf"
      },
      "execution_count": 33,
      "outputs": [
        {
          "output_type": "stream",
          "name": "stdout",
          "text": [
            "14/14 [==============================] - 0s 4ms/step - loss: 0.3565 - accuracy: 0.8170\n",
            "Test loss : 0.36, Test accuracy: 81.70%\n"
          ]
        }
      ]
    }
  ]
}